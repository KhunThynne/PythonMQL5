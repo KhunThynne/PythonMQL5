{
 "cells": [
  {
   "cell_type": "code",
   "execution_count": null,
   "metadata": {},
   "outputs": [],
   "source": []
  },
  {
   "cell_type": "markdown",
   "metadata": {},
   "source": [
    "ADX = SUM ((+DI - (-DI)) / (+DI + (-DI)), N) / N"
   ]
  },
  {
   "cell_type": "markdown",
   "metadata": {},
   "source": [
    "N - the number of periods used in the calculation; \n",
    "\n",
    "SUM (..., N) - sum for N periods;\n",
    "\n",
    "+DI - value of the indicator of the positive price movement (positive directional index);\n",
    "\n",
    "-DI - value of the indicator of the negative price movement (negative directional index)."
   ]
  },
  {
   "cell_type": "markdown",
   "metadata": {},
   "source": [
    "ATR=n1​∑i=1n​TRi​\n",
    "TR=max(High−Low,∣High−PreviousClose∣,∣Low−PreviousClose∣)\n",
    "​\n"
   ]
  },
  {
   "cell_type": "code",
   "execution_count": null,
   "metadata": {},
   "outputs": [],
   "source": [
    "class IndicatorADX:\n",
    "    def __init__(self,dataset) :\n",
    "        self.db = dataset\n",
    "        self.ATR_truerange = \"max((high-low),(high-preClose),(low-preClose))\"\n",
    "        self.pDM = \"high - low\"\n",
    "        self.nDM = \"low - high\"\n",
    "        self.period =\"ช่วงเวลา\"\n",
    "    \n",
    "    def trueRangeATR(high,low,preClose):\n",
    "        return max((high-low),(high-preClose),(low-preClose))\n",
    "      \n",
    "    def monitor(self):\n",
    "        pass"
   ]
  },
  {
   "cell_type": "code",
   "execution_count": 6,
   "metadata": {},
   "outputs": [
    {
     "name": "stdout",
     "output_type": "stream",
     "text": [
      "[1, 2, 3, 4, 5, 7]\n"
     ]
    }
   ],
   "source": [
    "list_a = [1, 2, 3, 4, 5]\n",
    "\n",
    "list_a.append(7)\n",
    "print(list_a)"
   ]
  }
 ],
 "metadata": {
  "kernelspec": {
   "display_name": "Python 3",
   "language": "python",
   "name": "python3"
  },
  "language_info": {
   "codemirror_mode": {
    "name": "ipython",
    "version": 3
   },
   "file_extension": ".py",
   "mimetype": "text/x-python",
   "name": "python",
   "nbconvert_exporter": "python",
   "pygments_lexer": "ipython3",
   "version": "3.11.8"
  }
 },
 "nbformat": 4,
 "nbformat_minor": 2
}
