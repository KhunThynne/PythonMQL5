{
 "cells": [
  {
   "cell_type": "code",
   "execution_count": null,
   "metadata": {},
   "outputs": [],
   "source": []
  },
  {
   "cell_type": "markdown",
   "metadata": {},
   "source": [
    "ADX = SUM ((+DI - (-DI)) / (+DI + (-DI)), N) / N"
   ]
  },
  {
   "cell_type": "markdown",
   "metadata": {},
   "source": [
    "N - the number of periods used in the calculation; \n",
    "\n",
    "SUM (..., N) - sum for N periods;\n",
    "\n",
    "+DI - value of the indicator of the positive price movement (positive directional index);\n",
    "\n",
    "-DI - value of the indicator of the negative price movement (negative directional index)."
   ]
  },
  {
   "cell_type": "markdown",
   "metadata": {},
   "source": [
    "ATR=n1​∑i=1n​TRi​\n",
    "TR=max(High−Low,∣High−PreviousClose∣,∣Low−PreviousClose∣)\n",
    "​\n"
   ]
  },
  {
   "cell_type": "code",
   "execution_count": null,
   "metadata": {},
   "outputs": [],
   "source": []
  }
 ],
 "metadata": {
  "kernelspec": {
   "display_name": "Python 3",
   "language": "python",
   "name": "python3"
  },
  "language_info": {
   "codemirror_mode": {
    "name": "ipython",
    "version": 3
   },
   "file_extension": ".py",
   "mimetype": "text/x-python",
   "name": "python",
   "nbconvert_exporter": "python",
   "pygments_lexer": "ipython3",
   "version": "3.11.8"
  }
 },
 "nbformat": 4,
 "nbformat_minor": 2
}
